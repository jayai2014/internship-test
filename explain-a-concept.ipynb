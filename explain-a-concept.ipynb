{
 "cells": [
  {
   "cell_type": "markdown",
   "metadata": {},
   "source": [
    "## Bias in Maching Learning\n",
    "Made for the Silverpond internship test by Dafu Ai (dafu.ai819@gmail.com / dafua@student.unimelb.edu.au)"
   ]
  },
  {
   "cell_type": "markdown",
   "metadata": {},
   "source": [
    "Bias in ML refers to when a model is over-fitting the data. (so a good model should aim for a best fit with the data).\n",
    "\n",
    "This notebook will explain how bias can be found in ML models and how we can address this problem.\n",
    "\n",
    "To help illustrate my explanations, I use the Iris dataset as the sample data: https://archive.ics.uci.edu/ml/datasets/iris. This is the toy dataset we used when we first learned machine learning in the university. So I think this could be suited for explaining bias, as a basic concept in ML.\n",
    "\n",
    "Also, to quickly grab a ready-to-use ML classifier, I am using the scikit-learn library http://scikit-learn.org/.\n",
    "\n",
    "The sample ML model I will use is the support vector machine (SVM). http://scikit-learn.org/stable/modules/svm.html"
   ]
  },
  {
   "cell_type": "markdown",
   "metadata": {},
   "source": [
    "First, let's load the sample data."
   ]
  },
  {
   "cell_type": "code",
   "execution_count": 37,
   "metadata": {},
   "outputs": [],
   "source": [
    "import sklearn \n",
    "from sklearn import datasets\n",
    "from sklearn.model_selection import train_test_split\n",
    "\n",
    "def load_data():\n",
    "    iris = datasets.load_iris()\n",
    "    X = iris.data[:, :2]  # we only take the first two features (i.e. Sepal Width & Sepal Length).\n",
    "    y = iris.target\n",
    "    return train_test_split(X, y)\n",
    "\n",
    "# Split the data into training and testing data\n",
    "x_train, x_test, y_train, y_test = load_data()"
   ]
  },
  {
   "cell_type": "markdown",
   "metadata": {},
   "source": [
    "Let's try using a SVM classifier with two different kernels: linear and RBF. (See http://scikit-learn.org/stable/modules/svm.html#svm-kernels)"
   ]
  },
  {
   "cell_type": "code",
   "execution_count": 141,
   "metadata": {},
   "outputs": [
    {
     "name": "stdout",
     "output_type": "stream",
     "text": [
      "SVM with Linear Kernel has accuracy 0.7631578947368421\n",
      "SVM with RBF Kernel has accuracy 0.7368421052631579\n"
     ]
    }
   ],
   "source": [
    "from sklearn import svm, datasets\n",
    "\n",
    "# Let's assume we don't know what is C yet.\n",
    "# ( For RBF, the gamma parameter defines how far the influence of a single training example reaches.\n",
    "#   See http://scikit-learn.org/stable/auto_examples/svm/plot_rbf_parameters.html )\n",
    "linear_model = svm.SVC(kernel='linear', C=1).fit(x_train, y_train)\n",
    "svm_model = svm.SVC(kernel='rbf', gamma=0.7, C=1).fit(x_train, y_train) \n",
    "\n",
    "# Define array can allow us to put into more models\n",
    "all_models = (linear_model, svm_model)\n",
    "model_titles = (\"Linear Kernel\", \"RBF Kernel\")\n",
    "\n",
    "# Output the accuracy score of each model over the testing data\n",
    "def output_model_scores(models, model_titles):\n",
    "    scores = [model.score(x_test, y_test) for model in all_models]\n",
    "\n",
    "    for i in range(0, len(scores)):\n",
    "        print(\"SVM with\", model_titles[i], 'has accuracy', scores[i])\n",
    "\n",
    "# Do it now\n",
    "output_model_scores(all_models, model_titles)"
   ]
  },
  {
   "cell_type": "markdown",
   "metadata": {},
   "source": [
    "Now let's look into the fitting of the two models in more details:"
   ]
  },
  {
   "cell_type": "code",
   "execution_count": 140,
   "metadata": {},
   "outputs": [
    {
     "data": {
      "image/png": "[encoded data removed]",
      "text/plain": [
       "<Figure size 432x288 with 2 Axes>"
      ]
     },
     "metadata": {},
     "output_type": "display_data"
    }
   ],
   "source": [
    "import matplotlib.pyplot as plt\n",
    "\n",
    "# Acknowledgement: below code is modified based on the example from http://scikit-learn.org/stable/auto_examples/svm/plot_iris.html\n",
    "def make_meshgrid(x, y, h=.02):\n",
    "    x_min, x_max = x.min() - 1, x.max() + 1\n",
    "    y_min, y_max = y.min() - 1, y.max() + 1\n",
    "    xx, yy = np.meshgrid(np.arange(x_min, x_max, h),\n",
    "                         np.arange(y_min, y_max, h))\n",
    "    return xx, yy\n",
    "\n",
    "def plot_contours(ax, clf, xx, yy, **params):\n",
    "    Z = clf.predict(np.c_[xx.ravel(), yy.ravel()])\n",
    "    Z = Z.reshape(xx.shape)\n",
    "    out = ax.contourf(xx, yy, Z, **params)\n",
    "    return out\n",
    "\n",
    "# Draw decision boundary plots between each model over the same (testing) data\n",
    "def draw_comparison_plots(models, model_titles):\n",
    "    fig, sub = plt.subplots(1, len(models))\n",
    "    plt.subplots_adjust(wspace=0.4, hspace=0.4)\n",
    "\n",
    "    X0, X1 = x_test[:, 0], x_test[:, 1]\n",
    "    xx, yy = make_meshgrid(X0, X1)\n",
    "\n",
    "    for clf, title, ax in zip(models, model_titles, sub.flatten()):\n",
    "        plot_contours(ax, clf, xx, yy,\n",
    "                      cmap=plt.cm.coolwarm, alpha=0.8)\n",
    "        ax.scatter(X0, X1, c=y_test, cmap=plt.cm.coolwarm, s=20, edgecolors='k')\n",
    "        ax.set_xlim(xx.min(), xx.max())\n",
    "        ax.set_ylim(yy.min(), yy.max())\n",
    "        ax.set_xlabel('Sepal length')\n",
    "        ax.set_ylabel('Sepal width')\n",
    "        ax.set_xticks(())\n",
    "        ax.set_yticks(())\n",
    "        ax.set_title(title)\n",
    "\n",
    "    plt.show()\n",
    "\n",
    "# Now we draw fitting graphs for the two models respectively (over the testing data)\n",
    "draw_comparison_plots(all_models, model_titles)"
   ]
  },
  {
   "cell_type": "markdown",
   "metadata": {},
   "source": [
    "From the graph above, we can see that the decision boundaries (i.e. boundaries of each coloured shapes ) of RBF-kernel SVM **tend to overfitts more** than the linear kernel. \n",
    "\n",
    "As this point, we should also note that the complexity of RBF kernel is greater than the linear kernel.\n",
    "\n",
    "As above, we can obverse that **increase in model complexity will drive us closer to overfitting** (when we have a fixed training dataset).\n",
    "\n",
    "So, if we want to decrease our model complexity, we can attempt to limit the effective degrees of freedom of our model, and one such technique is **regularisation**."
   ]
  },
  {
   "cell_type": "markdown",
   "metadata": {},
   "source": [
    "### Regularisation\n",
    "To guard against overfitting, we can apply regularisation. This is a very common approach.\n",
    "\n",
    "The 'unknown' C value as used in above code snippets, is indeed a regularisation parameter for SVM."
   ]
  },
  {
   "cell_type": "markdown",
   "metadata": {},
   "source": [
    "### L1 & L2 Regularisation"
   ]
  },
  {
   "cell_type": "markdown",
   "metadata": {},
   "source": [
    "With regularisation, there are also two common levels: L1 & L2.\n",
    "\n",
    "How are L1 & L2 different? In short,\n",
    "- L1 regularisation encourages solutions where many parameters are zero.\n",
    "- L2 regularisation encourages solutions where most parameter values are small.\n",
    "\n",
    "With the SVMs we just used, L2 is being used as default (as it is a standard for SVM).\n",
    "\n",
    "So, to improve overfitting, we can experimentally adjust the value of the C parameter (or even change the regularisation level until we find the one giving the most accurate models.\n",
    "\n",
    "Here's an simple example, we try a good range of C and find the model with the highest accuracy (over the training data)."
   ]
  },
  {
   "cell_type": "code",
   "execution_count": 161,
   "metadata": {
    "scrolled": true
   },
   "outputs": [
    {
     "name": "stdout",
     "output_type": "stream",
     "text": [
      "A bestfit model has C = 3.7 with score 0.8303571428571429\n",
      "An overfit model has C = 0.4 with score 0.7946428571428571\n"
     ]
    },
    {
     "data": {
      "image/png": "[encoded data removed]",
      "text/plain": [
       "<Figure size 432x288 with 1 Axes>"
      ]
     },
     "metadata": {
      "needs_background": "light"
     },
     "output_type": "display_data"
    }
   ],
   "source": [
    "import numpy as np\n",
    "\n",
    "def get_models_with_c_range(c_range):\n",
    "    return [svm.SVC(kernel='linear', C=c).fit(x_train, y_train) for c in c_range]\n",
    "\n",
    "c_range = np.arange(0.1, 10, 0.1)\n",
    "all_models = get_models_with_c_range(c_range)\n",
    "scores = [model.score(x_train, y_train) for model in all_models]\n",
    "\n",
    "best_model = all_models[scores.index(max(scores))]\n",
    "best_model_score = max(scores)\n",
    "overfit_model = all_models[scores.index(min(scores))]\n",
    "overfit_model_score = min(scores)\n",
    "\n",
    "# Let's see the result!\n",
    "plt.xlabel(\"C\")\n",
    "plt.ylabel(\"Accuracy\")\n",
    "plt.plot(c_range, scores)\n",
    "\n",
    "print(\"A bestfit model has C =\", best_model.get_params()['C'], 'with score', best_model_score)\n",
    "print(\"An overfit model has C =\", overfit_model.get_params()['C'], 'with score', overfit_model_score)"
   ]
  },
  {
   "cell_type": "markdown",
   "metadata": {},
   "source": [
    "### Side: Optimisation\n",
    "From the persepective of regularisation, **we can conceive learning as optimisation** (on some of the model parameters. \n",
    "\n",
    "We can use more advanced techniques to compute the optimal parameters, such as Gradient Descent Algorithm (see http://scikit-learn.org/stable/modules/sgd.html)"
   ]
  },
  {
   "cell_type": "markdown",
   "metadata": {},
   "source": [
    "### Wrap up\n",
    "Overall, this notebook only gives very basic explanations on bias and it introduces a few common approaches to address bias. So, the knowledge on bias should of-course not be limted on this notebook, and we should study this topic in greater depth. I believe the knowledge in this area, should be valued by every goo machine learning practitioner ."
   ]
  },
  {
   "cell_type": "code",
   "execution_count": null,
   "metadata": {},
   "outputs": [],
   "source": []
  }
 ],
 "metadata": {
  "kernelspec": {
   "display_name": "Python 3",
   "language": "python",
   "name": "python3"
  },
  "language_info": {
   "codemirror_mode": {
    "name": "ipython",
    "version": 3
   },
   "file_extension": ".py",
   "mimetype": "text/x-python",
   "name": "python",
   "nbconvert_exporter": "python",
   "pygments_lexer": "ipython3",
   "version": "3.6.6"
  }
 },
 "nbformat": 4,
 "nbformat_minor": 2
}
